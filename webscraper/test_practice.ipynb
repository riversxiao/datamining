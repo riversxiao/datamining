{
 "cells": [
  {
   "cell_type": "code",
   "execution_count": 1,
   "metadata": {
    "collapsed": true
   },
   "outputs": [],
   "source": [
    "import urllib.request\n",
    "import re\n",
    "from urllib.error import URLError, HTTPError, ContentTooShortError\n",
    "\n"
   ]
  },
  {
   "cell_type": "code",
   "execution_count": 27,
   "metadata": {
    "collapsed": false
   },
   "outputs": [],
   "source": [
    "def download(url, user_agent='wswp', num_retries=4, charset='utf-8', proxy=None):\n",
    "    \"\"\" Download a given URL and return the page content\n",
    "        args:\n",
    "            url (str): URL\n",
    "        kwargs:\n",
    "            user_agent (str): user agent (default: wswp)\n",
    "            charset (str): charset if website does not include one in headers\n",
    "            proxy (str): proxy url, ex 'http://IP' (default: None)\n",
    "            num_retries (int): number of retries if a 5xx error is seen (default: 2)\n",
    "    \"\"\"\n",
    "    print('Downloading:', url)\n",
    "    request = urllib.request.Request(url)\n",
    "    request.add_header('User-agent', user_agent)\n",
    "    try:\n",
    "        if proxy:\n",
    "            proxy_support = urllib.request.ProxyHandler({'http': proxy})\n",
    "            opener = urllib.request.build_opener(proxy_support)\n",
    "            urllib.request.install_opener(opener)\n",
    "        resp = urllib.request.urlopen(request)\n",
    "        cs = resp.headers.get_content_charset()\n",
    "        if not cs:\n",
    "            cs = charset\n",
    "        html = resp.read().decode(cs)\n",
    "    except (URLError, HTTPError, ContentTooShortError) as e:\n",
    "        print('Download error:', e.reason)\n",
    "        html = None\n",
    "        if num_retries > 0:\n",
    "            if hasattr(e, 'code') and 500 <= e.code < 600:\n",
    "                # recursively retry 5xx HTTP errors\n",
    "                return download(url, num_retries - 1)\n",
    "    return html\n",
    "\n",
    "import itertools \n",
    "from bs4 import BeautifulSoup as bs\n",
    "\n",
    "def crawl_site(url):\n",
    "    titles=[]\n",
    "    for page in itertools.count(1): \n",
    "        pg_url = '{}{}{}'.format(url, page,'/?a=a&l=3&y=') \n",
    "        html = download(pg_url) \n",
    "        if html is None: \n",
    "            break \n",
    "        soup = bs(html,'html5lib')\n",
    "        lik = soup.find_all('td',attrs={'class':'title'})\n",
    "        tittle = [(t.text) for t in lik]\n",
    "        titles.append(tittle)\n",
    "        if page > 9:\n",
    "            break\n",
    "    return titles\n"
   ]
  },
  {
   "cell_type": "code",
   "execution_count": 28,
   "metadata": {
    "collapsed": false,
    "scrolled": true
   },
   "outputs": [
    {
     "name": "stdout",
     "output_type": "stream",
     "text": [
      "Downloading: https://www.poemhunter.com/percy-bysshe-shelley/poems/page-1/?a=a&l=3&y=\n",
      "Downloading: https://www.poemhunter.com/percy-bysshe-shelley/poems/page-2/?a=a&l=3&y=\n",
      "Downloading: https://www.poemhunter.com/percy-bysshe-shelley/poems/page-3/?a=a&l=3&y=\n"
     ]
    }
   ],
   "source": [
    "all_tittles = crawl_site('https://www.poemhunter.com/percy-bysshe-shelley/poems/page-')"
   ]
  },
  {
   "cell_type": "code",
   "execution_count": 29,
   "metadata": {
    "collapsed": false,
    "scrolled": false
   },
   "outputs": [],
   "source": [
    "t = [x for tit in all_tittles for x in tit]\n",
    "t=set(t)\n",
    "t=list(t)\n",
    "t = [x[11:-10] for x in t]\n"
   ]
  },
  {
   "cell_type": "code",
   "execution_count": 31,
   "metadata": {
    "collapsed": false
   },
   "outputs": [
    {
     "data": {
      "text/plain": [
       "['To Death',\n",
       " 'Lines Written During The Castlereagh Administration',\n",
       " 'I Stood Upon A Heaven-Cleaving Turret',\n",
       " 'Epipsychidion: Passages Of The Poem, Or Connected Therewith',\n",
       " 'To Italy',\n",
       " 'When A Lover Clasps His Fairest',\n",
       " 'The Death Knell Is Ringing',\n",
       " 'To The Republicans Of North America',\n",
       " 'Fragment: To A Friend Released From Prison']"
      ]
     },
     "execution_count": 31,
     "metadata": {},
     "output_type": "execute_result"
    }
   ],
   "source": [
    "t[1:10]"
   ]
  },
  {
   "cell_type": "code",
   "execution_count": 34,
   "metadata": {
    "collapsed": false
   },
   "outputs": [],
   "source": [
    "import csv\n",
    "with open('data/peom.csv', 'w') as csvfile:\n",
    "    spamwriter = csv.writer(csvfile)\n",
    "    spamwriter.writerow(['title'])\n",
    "    for i in t:\n",
    "        spamwriter.writerow([i])\n",
    "\n",
    "    \n",
    "    "
   ]
  },
  {
   "cell_type": "code",
   "execution_count": 145,
   "metadata": {
    "collapsed": false
   },
   "outputs": [],
   "source": [
    "def get_links(html):\n",
    "    \"\"\"return a list of links from html \n",
    "    \"\"\"\n",
    "    webpage_regex = re.compile(\"\"\"<a[^>]+href=[\"'](.*?)[\"']\"\"\",re.IGNORECASE)\n",
    "    return webpage_regex.findall(html)\n"
   ]
  },
  {
   "cell_type": "code",
   "execution_count": 147,
   "metadata": {
    "collapsed": false,
    "scrolled": true
   },
   "outputs": [
    {
     "name": "stdout",
     "output_type": "stream",
     "text": [
      "Downloading: http://www.ftchinese.com/channel/finance.html?page=2\n"
     ]
    },
    {
     "data": {
      "text/plain": [
       "['http://user.ftchinese.com/register',\n",
       " '/users/mystories',\n",
       " '/users/cp',\n",
       " 'http://user.ftchinese.com/logout',\n",
       " '/users/findpassword',\n",
       " 'http://user.ftchinese.com/register',\n",
       " '/',\n",
       " 'http://big5.ftchinese.com/',\n",
       " 'http://www.ft.com/',\n",
       " '/',\n",
       " '/channel/china.html',\n",
       " '/channel/world.html',\n",
       " '/channel/economy.html',\n",
       " '/channel/markets.html',\n",
       " '/channel/business.html',\n",
       " '/channel/business.html',\n",
       " '/channel/finance.html',\n",
       " '/channel/technology.html',\n",
       " '/channel/auto.html',\n",
       " '/channel/property.html',\n",
       " '/channel/agriculture.html',\n",
       " '/channel/energy.html',\n",
       " '/channel/industrials.html',\n",
       " '/channel/airline.html',\n",
       " '/channel/pharma.html',\n",
       " '/channel/entertainment.html',\n",
       " '/channel/consumer.html',\n",
       " '/channel/media.html',\n",
       " '/channel/innovation.html',\n",
       " '/channel/opinion.html',\n",
       " '/channel/management.html',\n",
       " '/channel/lifestyle.html',\n",
       " '/channel/stream.html',\n",
       " '/channel/english.html',\n",
       " 'http://user.ftchinese.com/login',\n",
       " 'http://user.ftchinese.com/register',\n",
       " '/users/mystories',\n",
       " '/users/setting/index',\n",
       " 'http://user.ftchinese.com/logout',\n",
       " 'http://www.ftchinese.com/m/corp/follow.html',\n",
       " 'http://www.ftchinese.com/m/corp/follow.html',\n",
       " 'http://weibo.com/ftchinese',\n",
       " 'http://user.qzone.qq.com/622006290',\n",
       " 'http://www.ftchinese.com/m/corp/follow.html',\n",
       " 'http://www.ftchinese.com/m/corp/follow.html',\n",
       " 'https://twitter.com/FTChinese',\n",
       " 'https://www.facebook.com/financialtimeschinese',\n",
       " 'https://www.linkedin.com/company/4865254?trk=hp-feed-company-name',\n",
       " 'http://app.ftchinese.com/',\n",
       " '/users/setting/index',\n",
       " '/users/setting/changeicon',\n",
       " '/users/setting/maillist',\n",
       " '/index.php/snsapi/index',\n",
       " '/users/commentstory',\n",
       " '/users/favstorylist',\n",
       " 'http://www.ftchinese.com/channel/rss.html',\n",
       " '/channel/business.html',\n",
       " '/channel/finance.html',\n",
       " '/story/001072631#adchannelID=1501',\n",
       " '/story/001072631#adchannelID=1501',\n",
       " '/story/001072596#adchannelID=1501',\n",
       " '/story/001072596#adchannelID=1501',\n",
       " '/story/001072609#adchannelID=1501',\n",
       " '/story/001072609#adchannelID=1501',\n",
       " '/story/001072613#adchannelID=1501',\n",
       " '/story/001072613#adchannelID=1501',\n",
       " '/story/001072601#adchannelID=1501',\n",
       " '/story/001072601#adchannelID=1501',\n",
       " '/story/001072543#adchannelID=1501',\n",
       " '/story/001072543#adchannelID=1501',\n",
       " '/story/001072579#adchannelID=1501',\n",
       " '/story/001072579#adchannelID=1501',\n",
       " '/story/001072551#adchannelID=1501',\n",
       " '/story/001072551#adchannelID=1501',\n",
       " '/story/001072536#adchannelID=1501',\n",
       " '/story/001072536#adchannelID=1501',\n",
       " '/story/001072533#adchannelID=1501',\n",
       " '/story/001072533#adchannelID=1501',\n",
       " '/story/001072517#adchannelID=1501',\n",
       " '/story/001072517#adchannelID=1501',\n",
       " '/story/001072501#adchannelID=1501',\n",
       " '/story/001072501#adchannelID=1501',\n",
       " '/story/001072493#adchannelID=1501',\n",
       " '/story/001072493#adchannelID=1501',\n",
       " '/story/001072472#adchannelID=1501',\n",
       " '/story/001072472#adchannelID=1501',\n",
       " '/story/001072475#adchannelID=1501',\n",
       " '/story/001072475#adchannelID=1501',\n",
       " '/story/001072466#adchannelID=1501',\n",
       " '/story/001072466#adchannelID=1501',\n",
       " '/story/001072459#adchannelID=1501',\n",
       " '/story/001072459#adchannelID=1501',\n",
       " '/story/001072447#adchannelID=1501',\n",
       " '/story/001072447#adchannelID=1501',\n",
       " '/story/001072441#adchannelID=1501',\n",
       " '/story/001072441#adchannelID=1501',\n",
       " '/story/001072432#adchannelID=1501',\n",
       " '/story/001072432#adchannelID=1501',\n",
       " '/story/001072429#adchannelID=1501',\n",
       " '/story/001072429#adchannelID=1501',\n",
       " '/story/001072394#adchannelID=1501',\n",
       " '/story/001072394#adchannelID=1501',\n",
       " '/story/001072408#adchannelID=1501',\n",
       " '/story/001072408#adchannelID=1501',\n",
       " '/story/001072402#adchannelID=1501',\n",
       " '/story/001072402#adchannelID=1501',\n",
       " '/story/001072403#adchannelID=1501',\n",
       " '/story/001072403#adchannelID=1501',\n",
       " '/story/001072385#adchannelID=1501',\n",
       " '/story/001072385#adchannelID=1501',\n",
       " '/story/001072379#adchannelID=1501',\n",
       " '/story/001072379#adchannelID=1501',\n",
       " '/story/001072375#adchannelID=1501',\n",
       " '/story/001072375#adchannelID=1501',\n",
       " '/story/001072366#adchannelID=1501',\n",
       " '/story/001072366#adchannelID=1501',\n",
       " '/story/001072322#adchannelID=1501',\n",
       " '/story/001072322#adchannelID=1501',\n",
       " '/story/001072317#adchannelID=1501',\n",
       " '/story/001072317#adchannelID=1501',\n",
       " '/channel/weekly.html',\n",
       " '/story/001073127?dailypop',\n",
       " '/story/001073132?dailypop',\n",
       " '/story/001073135?dailypop',\n",
       " '/story/001073123?dailypop',\n",
       " '/story/001073119?dailypop',\n",
       " '/story/001073133?dailypop',\n",
       " '/story/001073102?dailypop',\n",
       " '/story/001073136?dailypop',\n",
       " '/story/001073134?dailypop',\n",
       " '/story/001073122?dailypop',\n",
       " 'finance.html?page=1',\n",
       " 'finance.html?page=1',\n",
       " 'finance.html?page=1',\n",
       " 'finance.html?page=3',\n",
       " 'finance.html?page=4',\n",
       " 'finance.html?page=5',\n",
       " 'finance.html?page=6',\n",
       " 'finance.html?page=7',\n",
       " 'finance.html?page=8',\n",
       " 'finance.html?page=9',\n",
       " 'finance.html?page=10',\n",
       " 'finance.html?page=3',\n",
       " 'finance.html?page=3',\n",
       " 'finance.html?page=292',\n",
       " '/m/corp/aboutus.html',\n",
       " 'https://ft.wd3.myworkdayjobs.com/FT_Chinese_External_Careers',\n",
       " '/m/corp/faq.html',\n",
       " '/m/corp/contact.html',\n",
       " '/m/corp/partner.html',\n",
       " '/m/corp/service.html',\n",
       " '/m/corp/sales.html',\n",
       " '/m/corp/copyright.html',\n",
       " '/m/marketing/ftc.html',\n",
       " 'http://app.ftchinese.com/download.html?utm_source=marketing&utm_medium=campaign&utm_campaign=QRCODE02',\n",
       " '/m/corp/follow.html',\n",
       " 'http://app.ftchinese.com/download.html?utm_source=marketing&utm_medium=campaign&utm_campaign=WECHAT01']"
      ]
     },
     "execution_count": 147,
     "metadata": {},
     "output_type": "execute_result"
    }
   ],
   "source": [
    "get_links(download(\"http://www.ftchinese.com/channel/finance.html?page=2\"))"
   ]
  },
  {
   "cell_type": "code",
   "execution_count": 149,
   "metadata": {
    "collapsed": false
   },
   "outputs": [],
   "source": [
    "from urllib.parse import urljoin\n",
    "\n",
    "def link_crawler(start_url,link_regex):\n",
    "    crawl_queue =[start_url]\n",
    "    while crawl_queue:\n",
    "        url = crawl_queue.pop()\n",
    "        html = download(url)\n",
    "        if not html:\n",
    "            continue\n",
    "        for link in get_links(html):\n",
    "            if re.match(link_regex,link):\n",
    "                abs_link =urljoin(start_url,link)\n",
    "                crawl_queue.append(abs_link)"
   ]
  },
  {
   "cell_type": "code",
   "execution_count": null,
   "metadata": {
    "collapsed": true
   },
   "outputs": [],
   "source": []
  }
 ],
 "metadata": {
  "kernelspec": {
   "display_name": "Python 3",
   "language": "python",
   "name": "python3"
  },
  "language_info": {
   "codemirror_mode": {
    "name": "ipython",
    "version": 3
   },
   "file_extension": ".py",
   "mimetype": "text/x-python",
   "name": "python",
   "nbconvert_exporter": "python",
   "pygments_lexer": "ipython3",
   "version": "3.6.0"
  }
 },
 "nbformat": 4,
 "nbformat_minor": 2
}
