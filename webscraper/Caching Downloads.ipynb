{
 "cells": [
  {
   "cell_type": "markdown",
   "metadata": {},
   "source": [
    "What if we want to download another fields , should we download again or do we have better method?\n",
    "\n",
    "the anwser is yes.\n",
    "\n",
    "here,we'll introduce Caching Downloads"
   ]
  },
  {
   "cell_type": "markdown",
   "metadata": {},
   "source": [
    "1. when to use caching\n",
    "\n",
    "2. adding cache support to the link crawler\n",
    "\n",
    "3. Testing the cache\n",
    "\n",
    "4. Using requests -cache \n",
    "\n",
    "5. Redis cache implementation "
   ]
  },
  {
   "cell_type": "code",
   "execution_count": null,
   "metadata": {
    "collapsed": true
   },
   "outputs": [],
   "source": []
  }
 ],
 "metadata": {
  "kernelspec": {
   "display_name": "Python 3",
   "language": "python",
   "name": "python3"
  },
  "language_info": {
   "codemirror_mode": {
    "name": "ipython",
    "version": 3
   },
   "file_extension": ".py",
   "mimetype": "text/x-python",
   "name": "python",
   "nbconvert_exporter": "python",
   "pygments_lexer": "ipython3",
   "version": "3.6.0"
  }
 },
 "nbformat": 4,
 "nbformat_minor": 2
}
