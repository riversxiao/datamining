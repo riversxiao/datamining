{
 "cells": [
  {
   "cell_type": "markdown",
   "metadata": {},
   "source": [
    "as you may notice, if we can't get direct access to google, so ,here comes the proxis"
   ]
  },
  {
   "cell_type": "code",
   "execution_count": 4,
   "metadata": {
    "collapsed": false
   },
   "outputs": [],
   "source": [
    "import urllib.request \n",
    "import urllib.response \n",
    "import urllib.error\n",
    "\n",
    "proxy = 'http://myproxy.net:1234' # example string\n",
    "\n",
    "proxy_support = urllib.request.ProxyHandler({'http': proxy})\n",
    "\n",
    "opener = urllib.request.build_opener(proxy_support)\n",
    "\n",
    "urllib.request.install_opener(opener) \n",
    "# now requests via urllib.request will be handled via proxy\n",
    "\n"
   ]
  },
  {
   "cell_type": "code",
   "execution_count": 6,
   "metadata": {
    "collapsed": false
   },
   "outputs": [],
   "source": [
    "def download(url, user_agent='naruto', num_retries=2, charset='utf-8', proxy=None): \n",
    "    print('Downloading:', url) \n",
    "    request = urllib.request.Request(url) \n",
    "    request.add_header('User-agent', user_agent)\n",
    "    try: \n",
    "        if proxy:\n",
    "            proxy_support = urllib.request.ProxyHandler({'http': proxy})\n",
    "            opener = urllib.request.build_opener(proxy_support)\n",
    "            urllib.request.install_opener(opener)\n",
    "        resp = urllib.request.urlopen(request)\n",
    "        cs = resp.headers.get_content_charset()\n",
    "        if not cs:\n",
    "            cs = charset\n",
    "        html = resp.read().decode(cs)\n",
    "    except (URLError, HTTPError, ContentTooShortError) as e:\n",
    "        print('Download error:', e.reason)\n",
    "        html = None \n",
    "        if num_retries > 0: \n",
    "            if hasattr(e, 'code') and 500 <= e.code < 600: \n",
    "            # recursively retry 5xx HTTP errors \n",
    "                return download(url, num_retries - 1) \n",
    "    return html"
   ]
  },
  {
   "cell_type": "code",
   "execution_count": null,
   "metadata": {
    "collapsed": true
   },
   "outputs": [],
   "source": []
  }
 ],
 "metadata": {
  "kernelspec": {
   "display_name": "Python 3",
   "language": "python",
   "name": "python3"
  },
  "language_info": {
   "codemirror_mode": {
    "name": "ipython",
    "version": 3
   },
   "file_extension": ".py",
   "mimetype": "text/x-python",
   "name": "python",
   "nbconvert_exporter": "python",
   "pygments_lexer": "ipython3",
   "version": "3.6.0"
  }
 },
 "nbformat": 4,
 "nbformat_minor": 2
}
