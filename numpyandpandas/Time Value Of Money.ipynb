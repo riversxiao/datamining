{
 "cells": [
  {
   "cell_type": "code",
   "execution_count": 77,
   "metadata": {
    "collapsed": true
   },
   "outputs": [],
   "source": [
    "import scipy as sp"
   ]
  },
  {
   "cell_type": "code",
   "execution_count": 78,
   "metadata": {
    "collapsed": false
   },
   "outputs": [
    {
     "name": "stdout",
     "output_type": "stream",
     "text": [
      "the bond price is 1000.0\n"
     ]
    }
   ],
   "source": [
    "#given the rate, number of period, payment, future value, calculate the present value \n",
    "bond_price = sp.pv(rate=0.1 ,nper=2 , pmt=100, fv=1000, when='end')\n",
    "print('the bond price is {}'.format(-bond_price))"
   ]
  },
  {
   "cell_type": "markdown",
   "metadata": {},
   "source": [
    "### all time worldwide box-office"
   ]
  },
  {
   "cell_type": "code",
   "execution_count": 83,
   "metadata": {
    "collapsed": false
   },
   "outputs": [],
   "source": [
    "import urllib\n",
    "from bs4 import BeautifulSoup\n",
    "import csv\n",
    "\n",
    "url = ('http://www.boxofficemojo.com/alltime/world/?pagenum=1&p=.htm')\n",
    "\n",
    "\n",
    "page = urllib.request.urlopen(url).read()\n",
    "\n",
    "\n",
    "soup = BeautifulSoup(page,'lxml')\n",
    "tables = soup.findAll('table')\n"
   ]
  },
  {
   "cell_type": "code",
   "execution_count": 84,
   "metadata": {
    "collapsed": true
   },
   "outputs": [],
   "source": [
    "table = tables[-1]"
   ]
  },
  {
   "cell_type": "code",
   "execution_count": 85,
   "metadata": {
    "collapsed": false
   },
   "outputs": [
    {
     "data": {
      "text/plain": [
       "101"
      ]
     },
     "execution_count": 85,
     "metadata": {},
     "output_type": "execute_result"
    }
   ],
   "source": [
    "x = len(table.findAll('tr'))\n",
    "x"
   ]
  },
  {
   "cell_type": "code",
   "execution_count": 86,
   "metadata": {
    "collapsed": false
   },
   "outputs": [],
   "source": [
    "f = csv.writer(open(\"box-office.csv\", \"w\"))\n",
    "f.writerow([\"Rank\", \"Title\", \"Studio\", \"Worldwide\", \"Domestic\", \"Domestic_P\", \"Oversea\", \"Oversea_P\", \"Year\"])\n",
    "for row in table.findAll('tr')[1:]:\n",
    "    cols = row.findAll('td')\n",
    "    col_data = []\n",
    "    for col in cols:\n",
    "        col_data.append(col.getText())\n",
    "    f.writerow(col_data)\n"
   ]
  },
  {
   "cell_type": "code",
   "execution_count": 87,
   "metadata": {
    "collapsed": true
   },
   "outputs": [],
   "source": [
    "import pandas as pd"
   ]
  },
  {
   "cell_type": "code",
   "execution_count": 89,
   "metadata": {
    "collapsed": false
   },
   "outputs": [],
   "source": [
    "box_data = pd.read_csv('box-office.csv')"
   ]
  },
  {
   "cell_type": "code",
   "execution_count": 90,
   "metadata": {
    "collapsed": false
   },
   "outputs": [
    {
     "data": {
      "text/html": [
       "<div>\n",
       "<style>\n",
       "    .dataframe thead tr:only-child th {\n",
       "        text-align: right;\n",
       "    }\n",
       "\n",
       "    .dataframe thead th {\n",
       "        text-align: left;\n",
       "    }\n",
       "\n",
       "    .dataframe tbody tr th {\n",
       "        vertical-align: top;\n",
       "    }\n",
       "</style>\n",
       "<table border=\"1\" class=\"dataframe\">\n",
       "  <thead>\n",
       "    <tr style=\"text-align: right;\">\n",
       "      <th></th>\n",
       "      <th>Rank</th>\n",
       "      <th>Title</th>\n",
       "      <th>Studio</th>\n",
       "      <th>Worldwide</th>\n",
       "      <th>Domestic</th>\n",
       "      <th>Domestic_P</th>\n",
       "      <th>Oversea</th>\n",
       "      <th>Oversea_P</th>\n",
       "      <th>Year</th>\n",
       "    </tr>\n",
       "  </thead>\n",
       "  <tbody>\n",
       "    <tr>\n",
       "      <th>0</th>\n",
       "      <td>1</td>\n",
       "      <td>Avatar</td>\n",
       "      <td>Fox</td>\n",
       "      <td>$2,788.0</td>\n",
       "      <td>$760.5</td>\n",
       "      <td>27.3%</td>\n",
       "      <td>$2,027.5</td>\n",
       "      <td>72.7%</td>\n",
       "      <td>2009^</td>\n",
       "    </tr>\n",
       "    <tr>\n",
       "      <th>1</th>\n",
       "      <td>2</td>\n",
       "      <td>Titanic</td>\n",
       "      <td>Par.</td>\n",
       "      <td>$2,186.8</td>\n",
       "      <td>$658.7</td>\n",
       "      <td>30.1%</td>\n",
       "      <td>$1,528.1</td>\n",
       "      <td>69.9%</td>\n",
       "      <td>1997^</td>\n",
       "    </tr>\n",
       "    <tr>\n",
       "      <th>2</th>\n",
       "      <td>3</td>\n",
       "      <td>Star Wars: The Force Awakens</td>\n",
       "      <td>BV</td>\n",
       "      <td>$2,068.2</td>\n",
       "      <td>$936.7</td>\n",
       "      <td>45.3%</td>\n",
       "      <td>$1,131.6</td>\n",
       "      <td>54.7%</td>\n",
       "      <td>2015</td>\n",
       "    </tr>\n",
       "    <tr>\n",
       "      <th>3</th>\n",
       "      <td>4</td>\n",
       "      <td>Jurassic World</td>\n",
       "      <td>Uni.</td>\n",
       "      <td>$1,671.7</td>\n",
       "      <td>$652.3</td>\n",
       "      <td>39.0%</td>\n",
       "      <td>$1,019.4</td>\n",
       "      <td>61.0%</td>\n",
       "      <td>2015</td>\n",
       "    </tr>\n",
       "    <tr>\n",
       "      <th>4</th>\n",
       "      <td>5</td>\n",
       "      <td>Marvel's The Avengers</td>\n",
       "      <td>BV</td>\n",
       "      <td>$1,518.8</td>\n",
       "      <td>$623.4</td>\n",
       "      <td>41.0%</td>\n",
       "      <td>$895.5</td>\n",
       "      <td>59.0%</td>\n",
       "      <td>2012</td>\n",
       "    </tr>\n",
       "  </tbody>\n",
       "</table>\n",
       "</div>"
      ],
      "text/plain": [
       "   Rank                         Title Studio Worldwide Domestic Domestic_P  \\\n",
       "0     1                        Avatar    Fox  $2,788.0   $760.5      27.3%   \n",
       "1     2                       Titanic   Par.  $2,186.8   $658.7      30.1%   \n",
       "2     3  Star Wars: The Force Awakens     BV  $2,068.2   $936.7      45.3%   \n",
       "3     4                Jurassic World   Uni.  $1,671.7   $652.3      39.0%   \n",
       "4     5         Marvel's The Avengers     BV  $1,518.8   $623.4      41.0%   \n",
       "\n",
       "    Oversea Oversea_P   Year  \n",
       "0  $2,027.5     72.7%  2009^  \n",
       "1  $1,528.1     69.9%  1997^  \n",
       "2  $1,131.6     54.7%   2015  \n",
       "3  $1,019.4     61.0%   2015  \n",
       "4    $895.5     59.0%   2012  "
      ]
     },
     "execution_count": 90,
     "metadata": {},
     "output_type": "execute_result"
    }
   ],
   "source": [
    "box_data.head()"
   ]
  },
  {
   "cell_type": "markdown",
   "metadata": {},
   "source": [
    "## clean data"
   ]
  },
  {
   "cell_type": "code",
   "execution_count": 97,
   "metadata": {
    "collapsed": false
   },
   "outputs": [],
   "source": [
    "\n",
    "box_data[\"Worldwide\"] = box_data[\"Worldwide\"].replace('[\\$,]', '', regex=True).astype(float)"
   ]
  },
  {
   "cell_type": "code",
   "execution_count": 102,
   "metadata": {
    "collapsed": true
   },
   "outputs": [],
   "source": [
    "def convert_currency(data,cols):\n",
    "    for each in cols:\n",
    "        data[each] = data[each].replace('[\\$,]', '', regex=True).astype(float)\n",
    "    return data"
   ]
  },
  {
   "cell_type": "code",
   "execution_count": 110,
   "metadata": {
    "collapsed": true
   },
   "outputs": [],
   "source": [
    "def clean_year(data,cols):\n",
    "    for each in cols:\n",
    "        data[each] = data[each].replace('[\\^]', '', regex=True).astype(int)\n",
    "    return data"
   ]
  },
  {
   "cell_type": "code",
   "execution_count": 106,
   "metadata": {
    "collapsed": true
   },
   "outputs": [],
   "source": [
    "cols_currency = ['Worldwide','Domestic','Oversea']\n",
    "cols_year = ['Year']"
   ]
  },
  {
   "cell_type": "code",
   "execution_count": 111,
   "metadata": {
    "collapsed": false
   },
   "outputs": [],
   "source": [
    "box_data = convert_currency(box_data,cols_currency)\n",
    "\n",
    "box_data = clean_year(box_data,cols_year)"
   ]
  },
  {
   "cell_type": "code",
   "execution_count": 113,
   "metadata": {
    "collapsed": false
   },
   "outputs": [],
   "source": [
    "box_data['currency'] = \"USD\""
   ]
  },
  {
   "cell_type": "code",
   "execution_count": 114,
   "metadata": {
    "collapsed": false
   },
   "outputs": [
    {
     "data": {
      "text/html": [
       "<div>\n",
       "<style>\n",
       "    .dataframe thead tr:only-child th {\n",
       "        text-align: right;\n",
       "    }\n",
       "\n",
       "    .dataframe thead th {\n",
       "        text-align: left;\n",
       "    }\n",
       "\n",
       "    .dataframe tbody tr th {\n",
       "        vertical-align: top;\n",
       "    }\n",
       "</style>\n",
       "<table border=\"1\" class=\"dataframe\">\n",
       "  <thead>\n",
       "    <tr style=\"text-align: right;\">\n",
       "      <th></th>\n",
       "      <th>Rank</th>\n",
       "      <th>Title</th>\n",
       "      <th>Studio</th>\n",
       "      <th>Worldwide</th>\n",
       "      <th>Domestic</th>\n",
       "      <th>Domestic_P</th>\n",
       "      <th>Oversea</th>\n",
       "      <th>Oversea_P</th>\n",
       "      <th>Year</th>\n",
       "      <th>currency</th>\n",
       "    </tr>\n",
       "  </thead>\n",
       "  <tbody>\n",
       "    <tr>\n",
       "      <th>0</th>\n",
       "      <td>1</td>\n",
       "      <td>Avatar</td>\n",
       "      <td>Fox</td>\n",
       "      <td>2788.0</td>\n",
       "      <td>760.5</td>\n",
       "      <td>27.3%</td>\n",
       "      <td>2027.5</td>\n",
       "      <td>72.7%</td>\n",
       "      <td>2009</td>\n",
       "      <td>USD</td>\n",
       "    </tr>\n",
       "    <tr>\n",
       "      <th>1</th>\n",
       "      <td>2</td>\n",
       "      <td>Titanic</td>\n",
       "      <td>Par.</td>\n",
       "      <td>2186.8</td>\n",
       "      <td>658.7</td>\n",
       "      <td>30.1%</td>\n",
       "      <td>1528.1</td>\n",
       "      <td>69.9%</td>\n",
       "      <td>1997</td>\n",
       "      <td>USD</td>\n",
       "    </tr>\n",
       "    <tr>\n",
       "      <th>2</th>\n",
       "      <td>3</td>\n",
       "      <td>Star Wars: The Force Awakens</td>\n",
       "      <td>BV</td>\n",
       "      <td>2068.2</td>\n",
       "      <td>936.7</td>\n",
       "      <td>45.3%</td>\n",
       "      <td>1131.6</td>\n",
       "      <td>54.7%</td>\n",
       "      <td>2015</td>\n",
       "      <td>USD</td>\n",
       "    </tr>\n",
       "    <tr>\n",
       "      <th>3</th>\n",
       "      <td>4</td>\n",
       "      <td>Jurassic World</td>\n",
       "      <td>Uni.</td>\n",
       "      <td>1671.7</td>\n",
       "      <td>652.3</td>\n",
       "      <td>39.0%</td>\n",
       "      <td>1019.4</td>\n",
       "      <td>61.0%</td>\n",
       "      <td>2015</td>\n",
       "      <td>USD</td>\n",
       "    </tr>\n",
       "    <tr>\n",
       "      <th>4</th>\n",
       "      <td>5</td>\n",
       "      <td>Marvel's The Avengers</td>\n",
       "      <td>BV</td>\n",
       "      <td>1518.8</td>\n",
       "      <td>623.4</td>\n",
       "      <td>41.0%</td>\n",
       "      <td>895.5</td>\n",
       "      <td>59.0%</td>\n",
       "      <td>2012</td>\n",
       "      <td>USD</td>\n",
       "    </tr>\n",
       "  </tbody>\n",
       "</table>\n",
       "</div>"
      ],
      "text/plain": [
       "   Rank                         Title Studio  Worldwide  Domestic Domestic_P  \\\n",
       "0     1                        Avatar    Fox     2788.0     760.5      27.3%   \n",
       "1     2                       Titanic   Par.     2186.8     658.7      30.1%   \n",
       "2     3  Star Wars: The Force Awakens     BV     2068.2     936.7      45.3%   \n",
       "3     4                Jurassic World   Uni.     1671.7     652.3      39.0%   \n",
       "4     5         Marvel's The Avengers     BV     1518.8     623.4      41.0%   \n",
       "\n",
       "   Oversea Oversea_P  Year currency  \n",
       "0   2027.5     72.7%  2009      USD  \n",
       "1   1528.1     69.9%  1997      USD  \n",
       "2   1131.6     54.7%  2015      USD  \n",
       "3   1019.4     61.0%  2015      USD  \n",
       "4    895.5     59.0%  2012      USD  "
      ]
     },
     "execution_count": 114,
     "metadata": {},
     "output_type": "execute_result"
    }
   ],
   "source": [
    "box_data.head()"
   ]
  },
  {
   "cell_type": "markdown",
   "metadata": {},
   "source": [
    "Let's suppose the interest rate is 5% annually, then let's adjust all box to year 2017, and see how the rank changes"
   ]
  },
  {
   "cell_type": "code",
   "execution_count": 117,
   "metadata": {
    "collapsed": true
   },
   "outputs": [],
   "source": [
    "box_data['Worldwide_inflation_adjusted'] = -sp.fv(0.05,2017-box_data['Year'],pmt = 0 ,pv=box_data['Worldwide'])"
   ]
  },
  {
   "cell_type": "code",
   "execution_count": 135,
   "metadata": {
    "collapsed": false
   },
   "outputs": [],
   "source": [
    "adjusted_box = box_data.sort_values(by='Worldwide_inflation_adjusted',ascending=False).head(10)"
   ]
  },
  {
   "cell_type": "code",
   "execution_count": 187,
   "metadata": {
    "collapsed": true
   },
   "outputs": [],
   "source": [
    "import matplotlib.pyplot as plt\n",
    "import seaborn\n",
    "import numpy as np"
   ]
  },
  {
   "cell_type": "code",
   "execution_count": 241,
   "metadata": {
    "collapsed": false,
    "scrolled": false
   },
   "outputs": [
    {
     "data": {
      "image/png": "[encoded data removed]",
      "text/plain": [
       "<matplotlib.figure.Figure at 0x119bdb470>"
      ]
     },
     "metadata": {},
     "output_type": "display_data"
    }
   ],
   "source": [
    "\n",
    "\n",
    "names = adjusted_box[\"Title\"][:10]\n",
    "ranks = adjusted_box[\"Rank\"][:10]\n",
    "box = adjusted_box['Worldwide_inflation_adjusted'][:10]\n",
    "fig, ax = plt.subplots()\n",
    "plt.scatter(box_data['Rank'],\n",
    "            box_data['Worldwide_inflation_adjusted'],\n",
    "            s=(box_data['Worldwide_inflation_adjusted'])**0.6,\n",
    "            c=np.log10(box_data['Worldwide_inflation_adjusted']),\n",
    "            cmap='viridis',\n",
    "            alpha =0.5\n",
    "           )\n",
    "for label,x,y in zip(names,ranks,box):\n",
    "    ax.annotate(label, (x, y),\n",
    "                xytext=(-2, 10),\n",
    "                textcoords='offset points',\n",
    "                ha='left',\n",
    "                rotation=10,\n",
    "                size = 10)\n",
    "plt.title(\"Inflation Adjusted Box\", size = 30)\n",
    "plt.xlabel(\"Rank with original box\", size = 15)\n",
    "plt.ylabel('Box', size = 15)\n",
    "\n",
    "plt.show()"
   ]
  },
  {
   "cell_type": "code",
   "execution_count": 152,
   "metadata": {
    "collapsed": false
   },
   "outputs": [
    {
     "data": {
      "text/html": [
       "<div>\n",
       "<style>\n",
       "    .dataframe thead tr:only-child th {\n",
       "        text-align: right;\n",
       "    }\n",
       "\n",
       "    .dataframe thead th {\n",
       "        text-align: left;\n",
       "    }\n",
       "\n",
       "    .dataframe tbody tr th {\n",
       "        vertical-align: top;\n",
       "    }\n",
       "</style>\n",
       "<table border=\"1\" class=\"dataframe\">\n",
       "  <thead>\n",
       "    <tr style=\"text-align: right;\">\n",
       "      <th></th>\n",
       "      <th>Rank</th>\n",
       "      <th>Title</th>\n",
       "      <th>Studio</th>\n",
       "      <th>Worldwide</th>\n",
       "      <th>Domestic</th>\n",
       "      <th>Domestic_P</th>\n",
       "      <th>Oversea</th>\n",
       "      <th>Oversea_P</th>\n",
       "      <th>Year</th>\n",
       "      <th>currency</th>\n",
       "      <th>Worldwide_inflation_adjusted</th>\n",
       "    </tr>\n",
       "  </thead>\n",
       "  <tbody>\n",
       "    <tr>\n",
       "      <th>1</th>\n",
       "      <td>2</td>\n",
       "      <td>Titanic</td>\n",
       "      <td>Par.</td>\n",
       "      <td>2186.8</td>\n",
       "      <td>658.7</td>\n",
       "      <td>30.1%</td>\n",
       "      <td>1528.1</td>\n",
       "      <td>69.9%</td>\n",
       "      <td>1997</td>\n",
       "      <td>USD</td>\n",
       "      <td>5802.231422</td>\n",
       "    </tr>\n",
       "    <tr>\n",
       "      <th>74</th>\n",
       "      <td>75</td>\n",
       "      <td>Star Wars</td>\n",
       "      <td>Fox</td>\n",
       "      <td>775.4</td>\n",
       "      <td>461.0</td>\n",
       "      <td>59.5%</td>\n",
       "      <td>314.4</td>\n",
       "      <td>40.5%</td>\n",
       "      <td>1977</td>\n",
       "      <td>USD</td>\n",
       "      <td>5458.807247</td>\n",
       "    </tr>\n",
       "    <tr>\n",
       "      <th>69</th>\n",
       "      <td>70</td>\n",
       "      <td>E.T.: The Extra-Terrestrial</td>\n",
       "      <td>Uni.</td>\n",
       "      <td>792.9</td>\n",
       "      <td>435.1</td>\n",
       "      <td>54.9%</td>\n",
       "      <td>357.8</td>\n",
       "      <td>45.1%</td>\n",
       "      <td>1982</td>\n",
       "      <td>USD</td>\n",
       "      <td>4373.648585</td>\n",
       "    </tr>\n",
       "    <tr>\n",
       "      <th>0</th>\n",
       "      <td>1</td>\n",
       "      <td>Avatar</td>\n",
       "      <td>Fox</td>\n",
       "      <td>2788.0</td>\n",
       "      <td>760.5</td>\n",
       "      <td>27.3%</td>\n",
       "      <td>2027.5</td>\n",
       "      <td>72.7%</td>\n",
       "      <td>2009</td>\n",
       "      <td>USD</td>\n",
       "      <td>4119.145777</td>\n",
       "    </tr>\n",
       "    <tr>\n",
       "      <th>24</th>\n",
       "      <td>25</td>\n",
       "      <td>Jurassic Park</td>\n",
       "      <td>Uni.</td>\n",
       "      <td>1029.2</td>\n",
       "      <td>402.5</td>\n",
       "      <td>39.1%</td>\n",
       "      <td>626.7</td>\n",
       "      <td>60.9%</td>\n",
       "      <td>1993</td>\n",
       "      <td>USD</td>\n",
       "      <td>3319.272862</td>\n",
       "    </tr>\n",
       "    <tr>\n",
       "      <th>33</th>\n",
       "      <td>34</td>\n",
       "      <td>The Lion King</td>\n",
       "      <td>BV</td>\n",
       "      <td>968.5</td>\n",
       "      <td>422.8</td>\n",
       "      <td>43.7%</td>\n",
       "      <td>545.7</td>\n",
       "      <td>56.3%</td>\n",
       "      <td>1994</td>\n",
       "      <td>USD</td>\n",
       "      <td>2974.770758</td>\n",
       "    </tr>\n",
       "    <tr>\n",
       "      <th>26</th>\n",
       "      <td>27</td>\n",
       "      <td>Star Wars: Episode I - The Phantom Menace</td>\n",
       "      <td>Fox</td>\n",
       "      <td>1027.0</td>\n",
       "      <td>474.5</td>\n",
       "      <td>46.2%</td>\n",
       "      <td>552.5</td>\n",
       "      <td>53.8%</td>\n",
       "      <td>1999</td>\n",
       "      <td>USD</td>\n",
       "      <td>2471.597953</td>\n",
       "    </tr>\n",
       "    <tr>\n",
       "      <th>2</th>\n",
       "      <td>3</td>\n",
       "      <td>Star Wars: The Force Awakens</td>\n",
       "      <td>BV</td>\n",
       "      <td>2068.2</td>\n",
       "      <td>936.7</td>\n",
       "      <td>45.3%</td>\n",
       "      <td>1131.6</td>\n",
       "      <td>54.7%</td>\n",
       "      <td>2015</td>\n",
       "      <td>USD</td>\n",
       "      <td>2280.190500</td>\n",
       "    </tr>\n",
       "    <tr>\n",
       "      <th>64</th>\n",
       "      <td>65</td>\n",
       "      <td>Independence Day</td>\n",
       "      <td>Fox</td>\n",
       "      <td>817.4</td>\n",
       "      <td>306.2</td>\n",
       "      <td>37.5%</td>\n",
       "      <td>511.2</td>\n",
       "      <td>62.5%</td>\n",
       "      <td>1996</td>\n",
       "      <td>USD</td>\n",
       "      <td>2277.245821</td>\n",
       "    </tr>\n",
       "    <tr>\n",
       "      <th>15</th>\n",
       "      <td>16</td>\n",
       "      <td>The Lord of the Rings: The Return of the King</td>\n",
       "      <td>NL</td>\n",
       "      <td>1119.9</td>\n",
       "      <td>377.8</td>\n",
       "      <td>33.7%</td>\n",
       "      <td>742.1</td>\n",
       "      <td>66.3%</td>\n",
       "      <td>2003</td>\n",
       "      <td>USD</td>\n",
       "      <td>2217.325398</td>\n",
       "    </tr>\n",
       "  </tbody>\n",
       "</table>\n",
       "</div>"
      ],
      "text/plain": [
       "    Rank                                          Title Studio  Worldwide  \\\n",
       "1      2                                        Titanic   Par.     2186.8   \n",
       "74    75                                      Star Wars    Fox      775.4   \n",
       "69    70                    E.T.: The Extra-Terrestrial   Uni.      792.9   \n",
       "0      1                                         Avatar    Fox     2788.0   \n",
       "24    25                                  Jurassic Park   Uni.     1029.2   \n",
       "33    34                                  The Lion King     BV      968.5   \n",
       "26    27      Star Wars: Episode I - The Phantom Menace    Fox     1027.0   \n",
       "2      3                   Star Wars: The Force Awakens     BV     2068.2   \n",
       "64    65                               Independence Day    Fox      817.4   \n",
       "15    16  The Lord of the Rings: The Return of the King     NL     1119.9   \n",
       "\n",
       "    Domestic Domestic_P  Oversea Oversea_P  Year currency  \\\n",
       "1      658.7      30.1%   1528.1     69.9%  1997      USD   \n",
       "74     461.0      59.5%    314.4     40.5%  1977      USD   \n",
       "69     435.1      54.9%    357.8     45.1%  1982      USD   \n",
       "0      760.5      27.3%   2027.5     72.7%  2009      USD   \n",
       "24     402.5      39.1%    626.7     60.9%  1993      USD   \n",
       "33     422.8      43.7%    545.7     56.3%  1994      USD   \n",
       "26     474.5      46.2%    552.5     53.8%  1999      USD   \n",
       "2      936.7      45.3%   1131.6     54.7%  2015      USD   \n",
       "64     306.2      37.5%    511.2     62.5%  1996      USD   \n",
       "15     377.8      33.7%    742.1     66.3%  2003      USD   \n",
       "\n",
       "    Worldwide_inflation_adjusted  \n",
       "1                    5802.231422  \n",
       "74                   5458.807247  \n",
       "69                   4373.648585  \n",
       "0                    4119.145777  \n",
       "24                   3319.272862  \n",
       "33                   2974.770758  \n",
       "26                   2471.597953  \n",
       "2                    2280.190500  \n",
       "64                   2277.245821  \n",
       "15                   2217.325398  "
      ]
     },
     "execution_count": 152,
     "metadata": {},
     "output_type": "execute_result"
    }
   ],
   "source": [
    "adjusted_box.head(10)"
   ]
  },
  {
   "cell_type": "code",
   "execution_count": null,
   "metadata": {
    "collapsed": true
   },
   "outputs": [],
   "source": []
  }
 ],
 "metadata": {
  "kernelspec": {
   "display_name": "Python 3",
   "language": "python",
   "name": "python3"
  },
  "language_info": {
   "codemirror_mode": {
    "name": "ipython",
    "version": 3
   },
   "file_extension": ".py",
   "mimetype": "text/x-python",
   "name": "python",
   "nbconvert_exporter": "python",
   "pygments_lexer": "ipython3",
   "version": "3.6.0"
  }
 },
 "nbformat": 4,
 "nbformat_minor": 2
}
