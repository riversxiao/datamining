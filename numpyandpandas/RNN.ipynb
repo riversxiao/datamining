{
 "cells": [
  {
   "cell_type": "code",
   "execution_count": 3,
   "metadata": {
    "collapsed": true
   },
   "outputs": [],
   "source": [
    "\n",
    "import numpy as np\n"
   ]
  },
  {
   "cell_type": "code",
   "execution_count": 4,
   "metadata": {
    "collapsed": false
   },
   "outputs": [
    {
     "name": "stdout",
     "output_type": "stream",
     "text": [
      "data has 980 characters, 98 unique.\n"
     ]
    }
   ],
   "source": [
    "## Vanilla RNN\n",
    "\n",
    "# data I/O\n",
    "data = open('inputs.txt').read()\n",
    "chars = list(set(data))\n",
    "data_size, vocab_size = len(data), len(chars)\n",
    "print 'data has %d characters, %d unique.'%(data_size,vocab_size)\n",
    "char_to_ix = {ch:i for i,ch in enumerate(chars)}\n",
    "ix_to_char = {i:ch for i,ch in enumerate(chars)}\n",
    "\n",
    "# hyperparameters\n",
    "\n",
    "hidden_size = 100\n",
    "seq_length = 25\n",
    "learning_rate = 1e-1\n",
    "\n",
    "# model parameters\n",
    "\n",
    "Wxh = np.random.randn(hidden_size, vocab_size) * 0.01 # input to hidden\n",
    "Whh = np.random.randn(hidden_size, hidden_size) * 0.01 # hidden to hidden\n",
    "Why = np.random.randn(vocab_size, hidden_size) * 0.01 # hidden to output\n",
    "bh = np.zeros((hidden_size, 1))# hidden bias\n",
    "by = np.zeros((vocab_size, 1)) # output bias\n",
    "\n",
    "def lossFun(inputs,targets,hprev):\n",
    "    xs,hs,ys,ps = {},{},{},{}\n",
    "    hs[-1]= np.copy(hprev)\n",
    "    loss = 0\n",
    "    for t in xrange(len(inputs)):\n",
    "        xs[t] = np.zeros((vocab_size,1))\n",
    "        xs[t][inputs[t]] = 1\n",
    "        hs[t] = np.tanh(np.dot(Wxh,xs[t]) + np.dot(Whh,hs[t-1]) + bh) # hidden state\n",
    "        ys[t] = np.dot(Why, hs[t]) + by # unnormalized log probabilitiees for next chars\n",
    "        ps[t] = np.exp(ys[t]) / np.sum(np.exp(ys[t]))\n",
    "        loss += -np.log(ps[t][targets[t],0])\n",
    "    dWxh, dWhh, dWhy = np.zeros_like(Wxh), np.zeros_like(Whh),np.zeros_like(Why)\n",
    "    dbh, dby = np.zeros_like(bh), np.zeros_like(by)\n",
    "    dhnext = np.zeros_like(hs[0])\n",
    "    for t in reversed(xrange(len(inputs))):\n",
    "        dy = np.copy(ps[t])\n",
    "        dy[targets[t]] -= 1\n",
    "        dWhy  += np.dot(dy,hs[t].T)\n",
    "        dby += dy \n",
    "        \n",
    "    \n",
    "    "
   ]
  },
  {
   "cell_type": "code",
   "execution_count": 5,
   "metadata": {
    "collapsed": false
   },
   "outputs": [],
   "source": [
    "x= [1,2,3,4]\n",
    "ps = {}\n",
    "for t in range(len(x)):\n",
    "    ps[t]= np.exp(t)/np.sum(np.exp(t))\n"
   ]
  },
  {
   "cell_type": "code",
   "execution_count": 6,
   "metadata": {
    "collapsed": false
   },
   "outputs": [],
   "source": [
    "import jieba"
   ]
  },
  {
   "cell_type": "code",
   "execution_count": 8,
   "metadata": {
    "collapsed": false
   },
   "outputs": [
    {
     "name": "stdout",
     "output_type": "stream",
     "text": [
      "data has 1553 characters, 510 unique.\n"
     ]
    }
   ],
   "source": [
    "data = open('inputs.txt').read()\n",
    "data = data.decode('utf-8')\n",
    "chars = list(set(jieba.cut(data, cut_all=True)))\n",
    "\n",
    "data_size, vocab_size = len(data), len(chars)\n",
    "print 'data has %d characters, %d unique.'%(data_size,vocab_size)\n",
    "char_to_ix = {ch:i for i,ch in enumerate(chars)}\n",
    "ix_to_char = {i:ch for i,ch in enumerate(chars)}"
   ]
  },
  {
   "cell_type": "code",
   "execution_count": 9,
   "metadata": {
    "collapsed": false
   },
   "outputs": [
    {
     "name": "stdout",
     "output_type": "stream",
     "text": [
      "要\n",
      "蒂斯\n",
      "坚守\n",
      "以来\n",
      "压制住\n",
      "糟糕\n",
      "通过\n",
      "Obamacare\n",
      "特性\n"
     ]
    }
   ],
   "source": [
    "for i in chars[1:10]:\n",
    "    print i"
   ]
  },
  {
   "cell_type": "code",
   "execution_count": 13,
   "metadata": {
    "collapsed": false
   },
   "outputs": [
    {
     "name": "stdout",
     "output_type": "stream",
     "text": [
      "人\n"
     ]
    }
   ],
   "source": [
    "inputs = u'最令人担忧的是'.encode('utf-8')\n",
    "print inputs.decode('utf-8')[2]"
   ]
  },
  {
   "cell_type": "code",
   "execution_count": 54,
   "metadata": {
    "collapsed": false
   },
   "outputs": [
    {
     "data": {
      "text/plain": [
       "array([[-0.01434178, -0.00678826,  0.015855  , ...,  0.00487078,\n",
       "         0.00120764, -0.00492001],\n",
       "       [-0.00079554,  0.00711495,  0.0095901 , ...,  0.00660423,\n",
       "        -0.00123768,  0.01446114],\n",
       "       [ 0.01757691, -0.00217722,  0.00603997, ...,  0.01665298,\n",
       "        -0.00796626, -0.0076595 ],\n",
       "       ..., \n",
       "       [ 0.00065288, -0.01116332,  0.00941793, ...,  0.01709803,\n",
       "        -0.00233317, -0.01126959],\n",
       "       [ 0.01766279, -0.00543635, -0.00025293, ...,  0.00477476,\n",
       "        -0.00795677, -0.00731067],\n",
       "       [ 0.01346714, -0.00302016, -0.0163305 , ..., -0.00463693,\n",
       "        -0.0179872 ,  0.01178702]])"
      ]
     },
     "execution_count": 54,
     "metadata": {},
     "output_type": "execute_result"
    }
   ],
   "source": [
    "Wxh"
   ]
  },
  {
   "cell_type": "code",
   "execution_count": 14,
   "metadata": {
    "collapsed": true
   },
   "outputs": [],
   "source": [
    "import requests"
   ]
  },
  {
   "cell_type": "code",
   "execution_count": null,
   "metadata": {
    "collapsed": true
   },
   "outputs": [],
   "source": []
  }
 ],
 "metadata": {
  "kernelspec": {
   "display_name": "Python 2",
   "language": "python",
   "name": "python2"
  },
  "language_info": {
   "codemirror_mode": {
    "name": "ipython",
    "version": 2
   },
   "file_extension": ".py",
   "mimetype": "text/x-python",
   "name": "python",
   "nbconvert_exporter": "python",
   "pygments_lexer": "ipython2",
   "version": "2.7.13"
  }
 },
 "nbformat": 4,
 "nbformat_minor": 0
}
