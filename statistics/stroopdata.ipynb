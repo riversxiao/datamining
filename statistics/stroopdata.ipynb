{
 "cells": [
  {
   "cell_type": "code",
   "execution_count": 60,
   "metadata": {
    "collapsed": false,
    "scrolled": true
   },
   "outputs": [
    {
     "data": {
      "text/html": [
       "<div>\n",
       "<table border=\"1\" class=\"dataframe\">\n",
       "  <thead>\n",
       "    <tr style=\"text-align: right;\">\n",
       "      <th></th>\n",
       "      <th>Congruent</th>\n",
       "      <th>Incongruent</th>\n",
       "    </tr>\n",
       "  </thead>\n",
       "  <tbody>\n",
       "    <tr>\n",
       "      <th>0</th>\n",
       "      <td>12.079</td>\n",
       "      <td>19.278</td>\n",
       "    </tr>\n",
       "    <tr>\n",
       "      <th>1</th>\n",
       "      <td>16.791</td>\n",
       "      <td>18.741</td>\n",
       "    </tr>\n",
       "    <tr>\n",
       "      <th>2</th>\n",
       "      <td>9.564</td>\n",
       "      <td>21.214</td>\n",
       "    </tr>\n",
       "    <tr>\n",
       "      <th>3</th>\n",
       "      <td>8.630</td>\n",
       "      <td>15.687</td>\n",
       "    </tr>\n",
       "    <tr>\n",
       "      <th>4</th>\n",
       "      <td>14.669</td>\n",
       "      <td>22.803</td>\n",
       "    </tr>\n",
       "  </tbody>\n",
       "</table>\n",
       "</div>"
      ],
      "text/plain": [
       "   Congruent  Incongruent\n",
       "0     12.079       19.278\n",
       "1     16.791       18.741\n",
       "2      9.564       21.214\n",
       "3      8.630       15.687\n",
       "4     14.669       22.803"
      ]
     },
     "execution_count": 60,
     "metadata": {},
     "output_type": "execute_result"
    }
   ],
   "source": [
    "%matplotlib inline\n",
    "import matplotlib\n",
    "matplotlib.style.use('ggplot')\n",
    "\n",
    "import pandas as pd\n",
    "import numpy as np\n",
    "import matplotlib.pyplot as plt\n",
    "\n",
    "Sd = pd.read_csv(\"stroopdata.csv\")\n",
    "\n",
    "x = p1data[\"Congruent\"]\n",
    "y = p1data[\"Incongruent\"]\n",
    "Sd.head()\n"
   ]
  },
  {
   "cell_type": "markdown",
   "metadata": {
    "collapsed": false
   },
   "source": [
    "# 1. What is our independent variable? What is our dependent variable?\n"
   ]
  },
  {
   "cell_type": "markdown",
   "metadata": {
    "collapsed": false
   },
   "source": [
    "the independent variable is whether the words name and color are same (congruent)or different(incongruent), and the dependent variable is the time to finish reading the word list.\n",
    "\n"
   ]
  },
  {
   "cell_type": "markdown",
   "metadata": {
    "collapsed": true
   },
   "source": [
    "# 2. What is an appropriate set of hypotheses for this task? What kind of statistical test do you expect to perform? Justify your choices."
   ]
  },
  {
   "cell_type": "markdown",
   "metadata": {},
   "source": [
    "my nullhypothese is that the average amount of time it takes to finish reading Incongruent list will be the same as the average time to finish reading congruent list\n",
    "\n",
    "my alternative hypothese is that the average amount of time it takes to finish reading Incongruent list will be longer than the average time to finish reading congruent list \n",
    "\n",
    "> H0: $\\mu_{incongruent}$ - $\\mu_{congruent}$ = 0 \n",
    "\n",
    "> H1: $\\mu_{incongruent}$ - $\\mu_{congruent}$ > 0\n",
    "\n",
    "note: $\\mu_{incongruent}$ is the population mean of incongruent list, $\\mu_{congruent}$ is the population mean of congruent list\n",
    "\n",
    "here i may use one tailed two sample t-test to check my hypothese. The reason is that we have no whole population data ,thus we don't know the mean and Standard deviation of the population. And there are two small sample size which is suitable for using two sample  t-test. "
   ]
  },
  {
   "cell_type": "markdown",
   "metadata": {},
   "source": [
    "# 3. Report some descriptive statistics regarding this dataset. Include at least one measure of central tendency and at least one measure of variability.\n",
    "\n"
   ]
  },
  {
   "cell_type": "code",
   "execution_count": 59,
   "metadata": {
    "collapsed": false
   },
   "outputs": [
    {
     "data": {
      "text/html": [
       "<div>\n",
       "<table border=\"1\" class=\"dataframe\">\n",
       "  <thead>\n",
       "    <tr style=\"text-align: right;\">\n",
       "      <th></th>\n",
       "      <th>Congruent</th>\n",
       "      <th>Incongruent</th>\n",
       "    </tr>\n",
       "  </thead>\n",
       "  <tbody>\n",
       "    <tr>\n",
       "      <th>count</th>\n",
       "      <td>24.000000</td>\n",
       "      <td>24.000000</td>\n",
       "    </tr>\n",
       "    <tr>\n",
       "      <th>mean</th>\n",
       "      <td>14.051125</td>\n",
       "      <td>22.015917</td>\n",
       "    </tr>\n",
       "    <tr>\n",
       "      <th>std</th>\n",
       "      <td>3.559358</td>\n",
       "      <td>4.797057</td>\n",
       "    </tr>\n",
       "    <tr>\n",
       "      <th>min</th>\n",
       "      <td>8.630000</td>\n",
       "      <td>15.687000</td>\n",
       "    </tr>\n",
       "    <tr>\n",
       "      <th>25%</th>\n",
       "      <td>11.895250</td>\n",
       "      <td>18.716750</td>\n",
       "    </tr>\n",
       "    <tr>\n",
       "      <th>50%</th>\n",
       "      <td>14.356500</td>\n",
       "      <td>21.017500</td>\n",
       "    </tr>\n",
       "    <tr>\n",
       "      <th>75%</th>\n",
       "      <td>16.200750</td>\n",
       "      <td>24.051500</td>\n",
       "    </tr>\n",
       "    <tr>\n",
       "      <th>max</th>\n",
       "      <td>22.328000</td>\n",
       "      <td>35.255000</td>\n",
       "    </tr>\n",
       "  </tbody>\n",
       "</table>\n",
       "</div>"
      ],
      "text/plain": [
       "       Congruent  Incongruent\n",
       "count  24.000000    24.000000\n",
       "mean   14.051125    22.015917\n",
       "std     3.559358     4.797057\n",
       "min     8.630000    15.687000\n",
       "25%    11.895250    18.716750\n",
       "50%    14.356500    21.017500\n",
       "75%    16.200750    24.051500\n",
       "max    22.328000    35.255000"
      ]
     },
     "execution_count": 59,
     "metadata": {},
     "output_type": "execute_result"
    }
   ],
   "source": [
    "Sd.describe()\n",
    "# mean for central tendency and std for variability"
   ]
  },
  {
   "cell_type": "markdown",
   "metadata": {},
   "source": [
    "# 4. Provide one or two visualizations that show the distribution of the sample data. Write one or two sentences noting what you observe about the plot or plots.\n",
    "\n"
   ]
  },
  {
   "cell_type": "code",
   "execution_count": 53,
   "metadata": {
    "collapsed": false
   },
   "outputs": [
    {
     "data": {
      "text/plain": [
       "<matplotlib.axes._subplots.AxesSubplot at 0x11ac7bc10>"
      ]
     },
     "execution_count": 53,
     "metadata": {},
     "output_type": "execute_result"
    },
    {
     "data": {
      "image/png": "[encoded data removed]",
      "text/plain": [
       "<matplotlib.figure.Figure at 0x11b01ef50>"
      ]
     },
     "metadata": {},
     "output_type": "display_data"
    }
   ],
   "source": [
    "Sd.plot.hist(bins =15,alpha =.5)"
   ]
  },
  {
   "cell_type": "markdown",
   "metadata": {},
   "source": [
    "***As we can see here,most congruent data are below 20,while the majority Incongruent date are above 20,and in incongruent group there are two outliers.*** The sample data is very small ,only 23 data available, the graph shows a normal distribution for each type of data."
   ]
  },
  {
   "cell_type": "code",
   "execution_count": 54,
   "metadata": {
    "collapsed": false
   },
   "outputs": [
    {
     "data": {
      "text/plain": [
       "<matplotlib.axes._subplots.AxesSubplot at 0x11b24ca50>"
      ]
     },
     "execution_count": 54,
     "metadata": {},
     "output_type": "execute_result"
    },
    {
     "data": {
      "image/png": "[encoded data removed]",
      "text/plain": [
       "<matplotlib.figure.Figure at 0x11aa49550>"
      ]
     },
     "metadata": {},
     "output_type": "display_data"
    }
   ],
   "source": [
    "Sd.plot.area(stacked=False,alpha =0.5)"
   ]
  },
  {
   "cell_type": "markdown",
   "metadata": {},
   "source": [
    "From this graph we can also see observe the similar result as histgram shows, moreover,  ***we could also see that for every test, the time takes for Incongruent group is higher than that of congruent group***"
   ]
  },
  {
   "cell_type": "code",
   "execution_count": 97,
   "metadata": {
    "collapsed": false
   },
   "outputs": [
    {
     "data": {
      "text/plain": [
       "<matplotlib.axes._subplots.AxesSubplot at 0x11c3c5e10>"
      ]
     },
     "execution_count": 97,
     "metadata": {},
     "output_type": "execute_result"
    },
    {
     "data": {
      "image/png": "[encoded data removed]",
      "text/plain": [
       "<matplotlib.figure.Figure at 0x11c3f2650>"
      ]
     },
     "metadata": {},
     "output_type": "display_data"
    }
   ],
   "source": [
    "Sd.plot.box()"
   ]
  },
  {
   "cell_type": "markdown",
   "metadata": {},
   "source": [
    "From this graph we can also see observe the similar result as other graph shows, , we could  see that the average time of incongruent list is about the max value of congruent list and the minimum value is at third quarter level of congruent list"
   ]
  },
  {
   "cell_type": "markdown",
   "metadata": {},
   "source": [
    "# 5. Now, perform the statistical test and report your results. What is your confidence level and your critical statistic value? Do you reject the null hypothesis or fail to reject it? Come to a conclusion in terms of the experiment task. Did the results match up with your expectations?\n"
   ]
  },
  {
   "cell_type": "code",
   "execution_count": 90,
   "metadata": {
    "collapsed": false
   },
   "outputs": [
    {
     "name": "stdout",
     "output_type": "stream",
     "text": [
      "4.86482691036 7.96479166667 0.993028634778 8.02070694411 1.63721994912\n"
     ]
    }
   ],
   "source": [
    "difference = Sd[\"Incongruent\"]-Sd[\"Congruent\"]\n",
    "dstd = difference.std(ddof= 1)\n",
    "sem = dstd / np.sqrt(24)\n",
    "meandiff = difference.mean()\n",
    "tnumber = meandiff/sem\n",
    "cohensd = meandiff/dstd\n",
    "\n",
    "print dstd, meandiff , sem, tnumber,cohensd"
   ]
  },
  {
   "cell_type": "markdown",
   "metadata": {},
   "source": [
    "[t table](https://s3.amazonaws.com/udacity-hosted-downloads/t-table.jpg)\n",
    "\n",
    "> H0: $\\mu_{incongruent}$ - $\\mu_{congruent}$ = 0 \n",
    "\n",
    "> H1: $\\mu_{incongruent}$ - $\\mu_{congruent}$ > 0\n",
    "\n",
    "$\\bar{x}_{congruent}$ =  14.051125\n",
    "\n",
    "$\\bar{x}_{incongruent}$ =  22.015917\n",
    "\n",
    "Mean of difference:\n",
    "\n",
    "$\\bar{x}_{difference}$ =  7.96479166667\n",
    "\n",
    "standard deviation of difference:\n",
    "\n",
    "$S_{difference}$ = 4.864826910359056\n",
    "\n",
    "$SEM = \\frac{S_{diff}}{\\sqrt{n}}$ = 0.993028634778\n",
    "\n",
    "$t = \\frac{\\bar{x}_{i} - \\bar{x}_{c}}{SEM}$ = 8.02070694411\n",
    "\n",
    "from t table, for one tail test, $\\alpha$ = .05, 23 degree of freedom, $t_{critical}$ = 1.714\n",
    "\n",
    "from our t value , we can see 8.02070694411 is larger than 1.714, so we should reject the null hypotheses\n",
    "\n",
    "Cohen's d = $\\frac{difference}{S}$ = 1.64\n",
    "\n",
    "CI = $M_d$ $\\pm$ $t_{critical}$ * SEM \n",
    "\n",
    "lower bound of CI = 9.67\n",
    "\n",
    "upper bound of CI = 6.26\n",
    "\n",
    "**So, in conclusion , we can see that it take significantly longer to complete the incongruent-condition task than the congruent-condition task.**\n"
   ]
  },
  {
   "cell_type": "markdown",
   "metadata": {},
   "source": [
    "# 6. Optional: What do you think is responsible for the effects observed? Can you think of an alternative or similar task that would result in a similar effect? Some research about the problem will be helpful for thinking about these two questions!"
   ]
  },
  {
   "cell_type": "markdown",
   "metadata": {},
   "source": [
    "I find several interesting theory in explaining the phenomenon\n",
    "\n",
    "Processing speed\n",
    "\n",
    "This theory suggests there is a lag in the brain's ability to recognize the color of the word since the brain reads words faster than it recognizes colors.[14] This is based on the idea that word processing is significantly faster th\n",
    "an color processing. In a condition where there is a conflict regarding words and colors (e.g., Stroop test), if the task is to report the color, the word information arrives at the decision-making stage before the color information which presents processing confusion. Conversely, if the task is to report the word, because color information lags after word information, a decision can be made ahead of the conflicting information.\n",
    "\n",
    "Selective attention \n",
    "\n",
    "The Selective Attention Theory that color recognition as opposed to reading a word, requires more attention, the brain needs to use more attention to recognize a color than to word encoding, so it takes a little longer.[16] The responses lend much to the interference noted in the Stroop task. This may be a result of either an allocation of attention to the responses or to a greater inhibition of distractors that are not appropriate responses.\n",
    "\n",
    "Automaticity\n",
    "\n",
    "This theory is the most common theory of the Stroop effect. It suggests that since recognizing colors is not an “automatic process” there is hesitancy to respond; whereas, the brain automatically understands the meaning of words as a result of habitual reading. This idea is based on the premise that automatic reading does not need controlled attention, but still uses enough attentional resources to reduce the amount of attention accessible for color information processing.Stirling (1979) introduced the concept of response automaticity. He demonstrated that changing the responses from colored words to letters that were not part of the colored words increased reaction time while reducing Stroop interference\n",
    "\n",
    "Parallel distributed processing\n",
    "\n",
    "This theory suggests that as the brain analyzes information, different and specific pathways are developed for different tasks. Some pathways, such as reading, are stronger than others, therefore, it is the strength of the pathway and not the speed of the pathway that is important. In addition, automaticity is a function of the strength of each pathway, hence, when two pathways are activated simultaneously in the Stroop effect, interference occurs between the stronger (word reading) path and the weaker (color naming) path, more specifically when the pathway that leads to the response is the weaker pathway.\n",
    "\n",
    "source : https://en.wikipedia.org/wiki/Stroop_effect"
   ]
  },
  {
   "cell_type": "code",
   "execution_count": null,
   "metadata": {
    "collapsed": true
   },
   "outputs": [],
   "source": []
  }
 ],
 "metadata": {
  "anaconda-cloud": {},
  "kernelspec": {
   "display_name": "Python [default]",
   "language": "python",
   "name": "python2"
  },
  "language_info": {
   "codemirror_mode": {
    "name": "ipython",
    "version": 2
   },
   "file_extension": ".py",
   "mimetype": "text/x-python",
   "name": "python",
   "nbconvert_exporter": "python",
   "pygments_lexer": "ipython2",
   "version": "2.7.12"
  }
 },
 "nbformat": 4,
 "nbformat_minor": 1
}
