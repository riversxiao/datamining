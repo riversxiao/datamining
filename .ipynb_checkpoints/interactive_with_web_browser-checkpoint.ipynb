{
 "cells": [
  {
   "cell_type": "markdown",
   "metadata": {},
   "source": [
    "# This is the first tutorial of the web crawler project"
   ]
  },
  {
   "cell_type": "markdown",
   "metadata": {},
   "source": [
    "I love Financial Times bilingual section, it help me to learn English as well as get some interesting news. \n",
    "\n",
    "But some  highlighted topics are not appearing to me, while some articles in the corner of the page gives exactly what \n",
    "\n",
    "i wanted,and I have to scroll all the way down to the bottom of the page to get the info.\n",
    "\n",
    "\n",
    "So, if i can instead get a list of titles, then just by looking at these tittles, I can have a farely understanding \n",
    "\n",
    "about the articles in that page. \n"
   ]
  },
  {
   "cell_type": "markdown",
   "metadata": {},
   "source": [
    "## first let's see how we can use quries in console\n",
    "\n",
    "console is a very handy tool for debugging "
   ]
  },
  {
   "cell_type": "markdown",
   "metadata": {},
   "source": [
    "first we need to navigate to the website\n",
    "\n",
    "\n",
    "in console\n",
    "\n",
    "```\n",
    "$$(\".item-headline\")\n",
    "```\n",
    "\n",
    "'.' is for class\n",
    "\n",
    "'#' is for id\n",
    "\n",
    "'empty' is for tag\n",
    "\n",
    "if all things failed, then maybe we can use xpath\n",
    "\n",
    "```\n",
    "$x(\"/html/body/div[5]/div/div[1]/div/div[1]/div/div/div[14]/div/h2\")\n",
    "```\n",
    "\n",
    "and it should reture the titles as i expected, now let's build our first webcrawler"
   ]
  },
  {
   "cell_type": "markdown",
   "metadata": {},
   "source": [
    "### first , i want to try some thing called selenium "
   ]
  },
  {
   "cell_type": "code",
   "execution_count": 2,
   "metadata": {
    "collapsed": true
   },
   "outputs": [],
   "source": [
    "from selenium import webdriver"
   ]
  },
  {
   "cell_type": "markdown",
   "metadata": {},
   "source": [
    "we need to find the chromedriver directory and them use that to control our chrome"
   ]
  },
  {
   "cell_type": "code",
   "execution_count": 3,
   "metadata": {
    "collapsed": true
   },
   "outputs": [],
   "source": [
    "import os"
   ]
  },
  {
   "cell_type": "code",
   "execution_count": 5,
   "metadata": {
    "collapsed": false
   },
   "outputs": [
    {
     "data": {
      "text/plain": [
       "['.DS_Store',\n",
       " '.ipynb_checkpoints',\n",
       " 'interactive with web browser.ipynb',\n",
       " 'using_the_selenium_module']"
      ]
     },
     "execution_count": 5,
     "metadata": {},
     "output_type": "execute_result"
    }
   ],
   "source": [
    "os.listdir()"
   ]
  },
  {
   "cell_type": "code",
   "execution_count": 7,
   "metadata": {
    "collapsed": false
   },
   "outputs": [],
   "source": [
    "browser = webdriver.Chrome('using_the_selenium_module/chromedriver')"
   ]
  },
  {
   "cell_type": "code",
   "execution_count": 8,
   "metadata": {
    "collapsed": true
   },
   "outputs": [],
   "source": [
    "browser.get(\"https://google.com\")"
   ]
  },
  {
   "cell_type": "markdown",
   "metadata": {},
   "source": [
    "here let's see how we can control browser to search things for us\n",
    "\n",
    "1. find the input css selector\n",
    "\n",
    "2. sent key in input\n"
   ]
  },
  {
   "cell_type": "code",
   "execution_count": 11,
   "metadata": {
    "collapsed": true
   },
   "outputs": [],
   "source": [
    "inputbox = browser.find_element_by_css_selector(\"#lst-ib\")"
   ]
  },
  {
   "cell_type": "code",
   "execution_count": 12,
   "metadata": {
    "collapsed": false
   },
   "outputs": [],
   "source": [
    "inputbox.send_keys('test')"
   ]
  },
  {
   "cell_type": "code",
   "execution_count": 13,
   "metadata": {
    "collapsed": true
   },
   "outputs": [],
   "source": [
    "inputbox.clear()"
   ]
  },
  {
   "cell_type": "markdown",
   "metadata": {},
   "source": [
    "Now, let's finish our task\n",
    "\n",
    "1. first we'll turn to our page\n",
    "\n",
    "2. find the selector\n",
    "\n",
    "3. get our data"
   ]
  },
  {
   "cell_type": "code",
   "execution_count": 14,
   "metadata": {
    "collapsed": true
   },
   "outputs": [],
   "source": [
    "browser.get('http://www.ftchinese.com/channel/ce.html')"
   ]
  },
  {
   "cell_type": "code",
   "execution_count": 15,
   "metadata": {
    "collapsed": true
   },
   "outputs": [],
   "source": [
    "titles = browser.find_elements_by_css_selector(\".item-headline\")"
   ]
  },
  {
   "cell_type": "markdown",
   "metadata": {},
   "source": [
    "Now we've get what we want, let's print it out"
   ]
  },
  {
   "cell_type": "code",
   "execution_count": 18,
   "metadata": {
    "collapsed": false
   },
   "outputs": [
    {
     "data": {
      "text/plain": [
       "['巴克莱及前CEO被控金融危机期间欺诈',\n",
       " '马克龙赢得议会多数席位',\n",
       " 'Facebook利用人工智能对恐怖分子删帖',\n",
       " 'IMF将中国GDP增幅预测上调至6.7%',\n",
       " '蒂勒森：对朝制裁不力国家可能面临美国制裁',\n",
       " '特里萨•梅面临“软退欧”压力',\n",
       " '特里萨•梅面临党内摊牌',\n",
       " '中国公司债券融资5月跌至新低',\n",
       " '特朗普支持沙特等国孤立卡塔尔',\n",
       " '投资者看好中国绿色概念股',\n",
       " 'FT社评：英国必须重估反恐政策',\n",
       " '特朗普宣布美国退出巴黎气候协定',\n",
       " '“互联网女皇”报告凸显美中网络巨头主导地位',\n",
       " '美国经济恢复强劲增长 告别年初疲弱',\n",
       " 'FBI调查库什纳与俄罗斯关系',\n",
       " '欧洲敦促特朗普坚守巴黎气候协定',\n",
       " '特朗普：中东面临和平的“难得机遇”',\n",
       " '瑞士公投决定禁止新建核电站',\n",
       " '美国酝酿扩大笔记本电脑禁令',\n",
       " '“特朗普危机”持续发酵',\n",
       " '特朗普：与俄罗斯分享情报没错',\n",
       " '马克龙任命法国新任总理',\n",
       " '安全专家：“想哭”增强版可能本周出炉',\n",
       " 'FBI代理局长：没有人可以阻挡调查',\n",
       " '京东上市以来首次实现季度盈利',\n",
       " '分析：韩国大选的特朗普因素',\n",
       " '欧盟：履行巴黎协议 美国可走自己的路',\n",
       " '华为拟发布高端笔记本电脑',\n",
       " '特朗普邀请东盟三国领导人访问白宫',\n",
       " '美国联邦政府再度面临停摆',\n",
       " '日本打算重启TPP',\n",
       " 'FT社评：“瘦身”世行对美国不利',\n",
       " 'IMF：美国财政扩张或致企业难以偿债',\n",
       " 'IMF六年来首次上调全球增长预测',\n",
       " '短线观点：中行海外发债受追捧',\n",
       " '罗斯：对美国保护主义的指责是“胡扯”',\n",
       " '叶芝诗歌译文：复活节1916',\n",
       " '日本战机紧急升空创纪录',\n",
       " '俄罗斯敦促美国澄清对叙利亚政策',\n",
       " '普京称美国打击叙利亚是受骗结果',\n",
       " '预测：日本面临严重人口减少',\n",
       " '美国施压俄罗斯放弃阿萨德',\n",
       " '芬兰敦促美中妥协 避免贸易战',\n",
       " '特朗普将班农从国家安全委员会除名',\n",
       " '特朗普对朝警告传递了什么信号？',\n",
       " '分析：特习会将预示美中关系走向',\n",
       " '英国首相正式启动退欧',\n",
       " '英国首相打响退欧发令枪']"
      ]
     },
     "execution_count": 18,
     "metadata": {},
     "output_type": "execute_result"
    }
   ],
   "source": [
    "[t.text for t in titles]"
   ]
  },
  {
   "cell_type": "markdown",
   "metadata": {},
   "source": [
    "This is the first version of the tutorial, maybe I'll revise it later. I'll see if I have enough time for this task. "
   ]
  },
  {
   "cell_type": "code",
   "execution_count": 1,
   "metadata": {
    "collapsed": false
   },
   "outputs": [
    {
     "data": {
      "text/plain": [
       "['',\n",
       " '赛季 球队 时间 得分 命中% 投篮 三分% 三分 罚球% 罚球 篮板 前场 后场 助攻 抢断 盖帽 犯规\\n16-17 雷霆 34.6 31.6 42.5% 10.2/24 34.3% 2.5/7.2 84.5% 8.8/10.4 10.7 1.7 9.0 10.4 1.6 0.4 2.3\\n15-16 雷霆 34.4 23.5 45.4% 8.2/18.1 29.6% 1.3/4.3 81.2% 5.8/7.2 7.8 1.8 6.0 10.4 2.0 0.3 2.5\\n14-15 雷霆 34.4 28.1 42.6% 9.4/22 29.9% 1.3/4.3 83.5% 8.1/9.8 7.3 1.9 5.4 8.6 2.1 0.2 2.7',\n",
       " '']"
      ]
     },
     "execution_count": 1,
     "metadata": {},
     "output_type": "execute_result"
    }
   ],
   "source": [
    "#$$(\".table-wrap\")\n",
    "#/Users/rivers/Desktop/all_project/webcrawler/using_the_selenium_module\n",
    "from selenium import webdriver\n",
    "file_location = \"/Users/rivers/Desktop/all_project/webcrawler/using_the_selenium_module/chromedriver\"\n",
    "browser = webdriver.Chrome(file_location)\n",
    "browser.get(\"http://nba.stats.qq.com/player/?id=4390\")\n",
    "tables = browser.find_elements_by_css_selector(\".table-wrap\")\n"
   ]
  },
  {
   "cell_type": "code",
   "execution_count": 5,
   "metadata": {
    "collapsed": false
   },
   "outputs": [],
   "source": [
    "content = [t.text for t in tables][1]\n",
    "import pprint"
   ]
  },
  {
   "cell_type": "code",
   "execution_count": 6,
   "metadata": {
    "collapsed": false
   },
   "outputs": [
    {
     "name": "stdout",
     "output_type": "stream",
     "text": [
      "('赛季 球队 时间 得分 命中% 投篮 三分% 三分 罚球% 罚球 篮板 前场 后场 助攻 抢断 盖帽 犯规\\n'\n",
      " '16-17 雷霆 34.6 31.6 42.5% 10.2/24 34.3% 2.5/7.2 84.5% 8.8/10.4 10.7 1.7 9.0 '\n",
      " '10.4 1.6 0.4 2.3\\n'\n",
      " '15-16 雷霆 34.4 23.5 45.4% 8.2/18.1 29.6% 1.3/4.3 81.2% 5.8/7.2 7.8 1.8 6.0 '\n",
      " '10.4 2.0 0.3 2.5\\n'\n",
      " '14-15 雷霆 34.4 28.1 42.6% 9.4/22 29.9% 1.3/4.3 83.5% 8.1/9.8 7.3 1.9 5.4 8.6 '\n",
      " '2.1 0.2 2.7')\n"
     ]
    }
   ],
   "source": [
    "pprint.pprint(content)"
   ]
  },
  {
   "cell_type": "markdown",
   "metadata": {},
   "source": [
    "the above code can be used on client side web crawler"
   ]
  },
  {
   "cell_type": "code",
   "execution_count": null,
   "metadata": {
    "collapsed": true
   },
   "outputs": [],
   "source": []
  }
 ],
 "metadata": {
  "kernelspec": {
   "display_name": "Python 3",
   "language": "python",
   "name": "python3"
  },
  "language_info": {
   "codemirror_mode": {
    "name": "ipython",
    "version": 3
   },
   "file_extension": ".py",
   "mimetype": "text/x-python",
   "name": "python",
   "nbconvert_exporter": "python",
   "pygments_lexer": "ipython3",
   "version": "3.6.0"
  }
 },
 "nbformat": 4,
 "nbformat_minor": 2
}
