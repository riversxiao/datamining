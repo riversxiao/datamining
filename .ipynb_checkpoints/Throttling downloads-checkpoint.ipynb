{
 "cells": [
  {
   "cell_type": "markdown",
   "metadata": {},
   "source": [
    "gently download the website\n",
    "\n",
    "we will throttle our crawl by waiting for a set dely between downloads. "
   ]
  },
  {
   "cell_type": "code",
   "execution_count": 1,
   "metadata": {
    "collapsed": true
   },
   "outputs": [],
   "source": [
    "from urllib.parse import urlparse"
   ]
  },
  {
   "cell_type": "code",
   "execution_count": 2,
   "metadata": {
    "collapsed": true
   },
   "outputs": [],
   "source": [
    "import re"
   ]
  },
  {
   "cell_type": "code",
   "execution_count": 3,
   "metadata": {
    "collapsed": true
   },
   "outputs": [],
   "source": [
    "class Throttle:\n",
    "    \"\"\"\n",
    "    Add a delay between downloads for each domain\n",
    "    \"\"\"\n",
    "    def __init__(self, delay):\n",
    "        #amount of delay between downloads for each domain\n",
    "        self.delay = delay\n",
    "        #timestamp of when a domain was latest accessed\n",
    "        self.domains = {}\n",
    "        \n",
    "    def wait(self, url):\n",
    "        domain = urlparse(url).netloc\n",
    "        last_accessed = self.domains.get(domain)\n",
    "        \n",
    "        if self.delay > 0 and last_accessed is not None:\n",
    "            sleep_secs = self.delay - (time.time() - last_accessed)\n",
    "            if sleep_secs > 0:\n",
    "                #domain has been accessed recently\n",
    "                #so need to sleep\n",
    "                time.sleep(sleep_secs)\n",
    "                \n",
    "        #update the last accessed time\n",
    "        self.domains[domain] = time.time()"
   ]
  },
  {
   "cell_type": "markdown",
   "metadata": {},
   "source": [
    "so before every download, we will add throttle to let crawler to sleep"
   ]
  },
  {
   "cell_type": "code",
   "execution_count": null,
   "metadata": {
    "collapsed": true
   },
   "outputs": [],
   "source": []
  }
 ],
 "metadata": {
  "kernelspec": {
   "display_name": "Python 3",
   "language": "python",
   "name": "python3"
  },
  "language_info": {
   "codemirror_mode": {
    "name": "ipython",
    "version": 3
   },
   "file_extension": ".py",
   "mimetype": "text/x-python",
   "name": "python",
   "nbconvert_exporter": "python",
   "pygments_lexer": "ipython3",
   "version": "3.6.0"
  }
 },
 "nbformat": 4,
 "nbformat_minor": 2
}
