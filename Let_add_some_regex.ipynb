{
 "cells": [
  {
   "cell_type": "code",
   "execution_count": 3,
   "metadata": {
    "collapsed": true
   },
   "outputs": [],
   "source": [
    "import re\n",
    "\n",
    "def download(url,user_agent='naruto',number_retries = 2, charset='utf-8'):\n",
    "    print(\"Downloading:\", url)\n",
    "    request = urllib.request.Request(url)\n",
    "    request.add_header(\"User-agent\", user_agent)\n",
    "    try:\n",
    "        resp = urllib.request.urlopen(request)\n",
    "        #verify if web charset is utf-8, if not ,we'll use utf-8 to decode, haha, \n",
    "        #it will throw error if no cs returned, but\n",
    "        #we hope utf-8 will help\n",
    "        #read more on pypi.python.org/pypi/chardet to implement a more robust decoder\n",
    "        cs = resp.headers.get_content_charset()\n",
    "        if not cs:\n",
    "            cs = charset\n",
    "        html = resp.read().decode(cs)\n",
    "    except (URLError, HTTPError, ContentTooShortError) as e:\n",
    "        print('Download error:', e.reason)\n",
    "        html = None\n",
    "        if number_retries > 0:\n",
    "            if hasattr(e, \"code\") and 500 <= e.code <= 600:\n",
    "                #recursive download process\n",
    "                return download(url,number_retries -1)\n",
    "    return html\n",
    "\n",
    "def link_crawler(start_url, link_regex):\n",
    "    \"\"\"\n",
    "    we'll start from a base url and if the link match the link_regex,\n",
    "    we'll continue the crawler process\n",
    "    \"\"\"\n",
    "    crawl_queue = [start_url]\n",
    "    while crawl_queue:\n",
    "        url = crawl_queue.pop()\n",
    "        html = download(url)\n",
    "        if not html:\n",
    "            continue\n",
    "        #the following code is to get the type of links we want\n",
    "        for link in get_links(html):\n",
    "            if re.match(link_regex, link):\n",
    "                crawl_queue.append(link)\n",
    "# now, let's define the get_links function\n",
    "\n",
    "def get_links(html):\n",
    "    \"\"\"\n",
    "    return a list of links from our start url\n",
    "    \"\"\"\n",
    "    # use the regex \n",
    "    webpage_regex = re.compile(\"\"\"<a[^>]+href=[\"'](.*?)[\"']\"\"\", re.IGNORECASE)\n",
    "    # now, let's get all the links\n",
    "    return webpage_regex.findall(html)"
   ]
  },
  {
   "cell_type": "markdown",
   "metadata": {},
   "source": [
    "The problem with the above link is that it only includes the path ,and leave out the protocal and the server,which is known as ***relative link***. It works in browsing, not in urllib. Here, let's find the ***absolute link***"
   ]
  },
  {
   "cell_type": "markdown",
   "metadata": {},
   "source": [
    "in urllib parse is the thing we want for absolute link"
   ]
  },
  {
   "cell_type": "code",
   "execution_count": 4,
   "metadata": {
    "collapsed": true
   },
   "outputs": [],
   "source": [
    "from urllib.parse import urljoin\n",
    "\n",
    "def link_crawler(start_url, link_regex):\n",
    "    \n",
    "    \"\"\"\n",
    "    we'll start from a base url and if the link match the link_regex,\n",
    "    we'll continue the crawler process\n",
    "    \"\"\"\n",
    "    \n",
    "    crawl_queue = [start_url]\n",
    "    while crawl_queue:\n",
    "        url = crawl_queue.pop()\n",
    "        html = download(url)\n",
    "        if not html:\n",
    "            continue\n",
    "        #the following code is to get the type of links we want\n",
    "        for link in get_links(html):\n",
    "            if re.match(link_regex, link):\n",
    "                abs_link = urljoin(start_url, link)\n",
    "                crawl_queue.append(abs_link)"
   ]
  },
  {
   "cell_type": "markdown",
   "metadata": {},
   "source": [
    "the problem with the above method is the circular crawling\n",
    "\n",
    "let's sovle the circular crawling problem"
   ]
  },
  {
   "cell_type": "code",
   "execution_count": 5,
   "metadata": {
    "collapsed": true
   },
   "outputs": [],
   "source": [
    "def link_crawler(start_url, link_regex):\n",
    "    \n",
    "    \"\"\"\n",
    "    we'll start from a base url and if the link match the link_regex,\n",
    "    we'll continue the crawler process\n",
    "    \"\"\"\n",
    "    \n",
    "    crawl_queue = [start_url]\n",
    "    seen = set(crawl_queue)\n",
    "    while crawl_queue:\n",
    "        url = crawl_queue.pop()\n",
    "        html = download(url)\n",
    "        if not html:\n",
    "            continue\n",
    "        #the following code is to get the type of links we want\n",
    "        for link in get_links(html):\n",
    "            if re.match(link_regex, link):\n",
    "                abs_link = urljoin(start_url, link)\n",
    "                #let's check whether link is in crawl_queue\n",
    "                if abs_link not in seen:\n",
    "                    seen.add(abs_link)\n",
    "                    crawl_queue.append(abs_link)\n",
    "                "
   ]
  },
  {
   "cell_type": "markdown",
   "metadata": {},
   "source": [
    "wolaaaa ,now a link crawler is completed, enjoy the coffee"
   ]
  },
  {
   "cell_type": "code",
   "execution_count": null,
   "metadata": {
    "collapsed": true
   },
   "outputs": [],
   "source": []
  }
 ],
 "metadata": {
  "kernelspec": {
   "display_name": "Python 3",
   "language": "python",
   "name": "python3"
  },
  "language_info": {
   "codemirror_mode": {
    "name": "ipython",
    "version": 3
   },
   "file_extension": ".py",
   "mimetype": "text/x-python",
   "name": "python",
   "nbconvert_exporter": "python",
   "pygments_lexer": "ipython3",
   "version": "3.6.0"
  }
 },
 "nbformat": 4,
 "nbformat_minor": 2
}
